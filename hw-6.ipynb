{
 "cells": [
  {
   "cell_type": "code",
   "execution_count": null,
   "id": "3cc97950",
   "metadata": {},
   "outputs": [],
   "source": [
    "%matplotlib inline\n",
    "import matplotlib.pyplot as plt\n",
    "import numpy as np"
   ]
  },
  {
   "cell_type": "markdown",
   "id": "43a4d0cc",
   "metadata": {},
   "source": [
    "### Define RK\n"
   ]
  },
  {
   "cell_type": "code",
   "execution_count": null,
   "id": "78c7d0d6",
   "metadata": {},
   "outputs": [],
   "source": [
    "def rkck_core(dydx,xi,yi,h, tol):\n",
    "    err = 2*tol\n",
    "\n",
    "    while(err > tol):\n",
    "        xn = xi + h\n",
    "        k1 = h*dydx(xi,yi)\n",
    "        k2 = h*dydx(xi+(1/5)*h, yi+(1/5)*k1)\n",
    "        k3 = h*dydx(xi+(3/10)*h,yi+(3/40)*k1+(9/40)*k2)\n",
    "        k4 = h*dydx(xi+(3/5)*h,yi+(3/10)*k1+(-9/10)*k2+(6/5)*k3)\n",
    "        k5 = h*dydx(xi+h,yi+(-11/54)*k1+(5/2)*k2+(-70/27)*k3+(53/27)*k4)\n",
    "        k6 = h*dydx(xi+(7/8)*h,yi+(1631/55296)*k1+(175/512)*k2+(575/13824)*k3+(44275/110592)*k4+(253/4096)*k5)\n",
    "    \n",
    "        dy4 = ((37/378)*k1)+((250/621)*k3)+((125/594)*k4)+((512/1771)*k6)\n",
    "        dy5 = ((2825/27648)*k1)+((18575/48384)*k3)+((13525/55296)*k4)+((277/14336)*k5)+((1/4)*k6)\n",
    "    \n",
    "        err = 1e-2*tol+max(abs(dy4-dy5))\n",
    "        \n",
    "        h *= 0.9*(tol/err.max())**(0.25)\n",
    "        \n",
    "        yn = yi+dy4\n",
    "        \n",
    "        print(xn,\" , \", yn)\n",
    "    return xn, yn, h\n",
    "    \n",
    "    \n"
   ]
  },
  {
   "cell_type": "markdown",
   "id": "9c4510e1",
   "metadata": {},
   "source": [
    "### step size control"
   ]
  },
  {
   "cell_type": "code",
   "execution_count": null,
   "id": "39af07d4",
   "metadata": {},
   "outputs": [],
   "source": [
    "def step_control(dydx, x_i, y_i, tend, h, tol):\n",
    "    X = [x_i]\n",
    "    Y = [y_i]\n",
    "    x = x_i\n",
    "    y = y_i\n",
    "    \n",
    "    while(x < tend):\n",
    "        h = min(h, tend-x)\n",
    "        x, y, h = rkck_core(dydx, x, y, h, tol)\n",
    "        X.append(x)\n",
    "        Y.append(y)\n",
    "    return np.array(X), np.array(Y)"
   ]
  },
  {
   "cell_type": "markdown",
   "id": "57a0c328",
   "metadata": {},
   "source": [
    "## run method"
   ]
  },
  {
   "cell_type": "code",
   "execution_count": null,
   "id": "d2b03e0a",
   "metadata": {},
   "outputs": [],
   "source": [
    "def func(t,y): \n",
    "    return np.array([ y[1], -y[0]])\n",
    "\n",
    "Y0_f1 = np.array([0,1.0])\n",
    "# Execution\n",
    "h = 1\n",
    "xv, yv = step_control(func, 0.0, Y0_f1, 2*np.pi, h, 1.0E-06)\n",
    "print(\"[ %20.15f, %20.15f]\"%(yv[-1,0], yv[-1,1]) )\n"
   ]
  },
  {
   "cell_type": "markdown",
   "id": "23840374",
   "metadata": {},
   "source": [
    "##  Plot the analytical solutions for y(x) and dy/dx(x) over the specified range, and the numerical solution"
   ]
  },
  {
   "cell_type": "code",
   "execution_count": null,
   "id": "f3ce64c0",
   "metadata": {},
   "outputs": [],
   "source": [
    "plt.plot(xv, yv[:,0],'o',label='y(x)')\n",
    "plt.plot(xv, yv[:,1],'o',label='dydx(x)')\n",
    "xx = np.linspace(0,2*np.pi,1000)\n",
    "plt.plot(xx,np.sin(xx),label='sin(x)')\n",
    "plt.plot(xx,np.cos(xx),label='cos(x)')\n",
    "plt.xlabel('x')\n",
    "plt.ylabel('y')\n",
    "plt.legend(frameon=True)"
   ]
  },
  {
   "cell_type": "markdown",
   "id": "02d5df21",
   "metadata": {},
   "source": [
    " ## Plot the absolute error for the numerical solutions of y(x) and dy/dx(x) over the specified range."
   ]
  },
  {
   "cell_type": "code",
   "execution_count": null,
   "id": "c9fafc75",
   "metadata": {},
   "outputs": [],
   "source": [
    "sine = np.sin(xv)\n",
    "cosine = np.cos(xv)\n",
    "\n",
    "y_error = (yv[:,0]-sine)\n",
    "dydx_error = (yv[:,1]-cosine)\n",
    "\n",
    "plt.plot(xv, y_error, label='y(x) Error')\n",
    "plt.plot(xv, dydx_error, label='dydx(X) Error')\n",
    "plt.legend(frameon=True)"
   ]
  },
  {
   "cell_type": "code",
   "execution_count": null,
   "id": "6c198882",
   "metadata": {},
   "outputs": [],
   "source": []
  },
  {
   "cell_type": "code",
   "execution_count": null,
   "id": "ef86c32e",
   "metadata": {},
   "outputs": [],
   "source": []
  },
  {
   "cell_type": "code",
   "execution_count": null,
   "id": "39680a09",
   "metadata": {},
   "outputs": [],
   "source": []
  }
 ],
 "metadata": {
  "kernelspec": {
   "display_name": "Python 3 (ipykernel)",
   "language": "python",
   "name": "python3"
  },
  "language_info": {
   "codemirror_mode": {
    "name": "ipython",
    "version": 3
   },
   "file_extension": ".py",
   "mimetype": "text/x-python",
   "name": "python",
   "nbconvert_exporter": "python",
   "pygments_lexer": "ipython3",
   "version": "3.9.7"
  }
 },
 "nbformat": 4,
 "nbformat_minor": 5
}
