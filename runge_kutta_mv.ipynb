{
 "cells": [
  {
   "cell_type": "markdown",
   "id": "a39a28ae",
   "metadata": {},
   "source": [
    "# Create a notebook to perform Runge-Kutta integration for multiple coupled variables"
   ]
  },
  {
   "cell_type": "code",
   "execution_count": 1,
   "id": "5b33536f",
   "metadata": {},
   "outputs": [],
   "source": [
    "%matplotlib inline\n",
    "import matplotlib.pyplot as plt\n",
    "import numpy as np"
   ]
  },
  {
   "cell_type": "markdown",
   "id": "41f98177",
   "metadata": {},
   "source": [
    "### Define our coupled variables to integrate"
   ]
  },
  {
   "cell_type": "code",
   "execution_count": 2,
   "id": "0712485f",
   "metadata": {},
   "outputs": [],
   "source": [
    "def dydx(x,y):\n",
    "    #set the derivatives\n",
    "    #our equation is d**2/dx**2 = -y\n",
    "    \n",
    "    #so we can write\n",
    "    #dy/dx = x\n",
    "    #dz/dx = -y\n",
    "    \n",
    "    #we will set y=y[0]\n",
    "    #and z=y[1]\n",
    "    \n",
    "    #declare an array\n",
    "    y_derivs = np.zeros(2)\n",
    "    \n",
    "    #set dydx = z\n",
    "    y_derivs[1] = -1*y[0]\n",
    "    \n",
    "    #return the derivatives\n",
    "    return y_derivs"
   ]
  },
  {
   "cell_type": "markdown",
   "id": "1fd1f765",
   "metadata": {},
   "source": [
    "### Define 4th order RK scheme for multiple variables"
   ]
  },
  {
   "cell_type": "code",
   "execution_count": null,
   "id": "d160dd79",
   "metadata": {},
   "outputs": [],
   "source": [
    "def rk4_mv_core(dydx,xi,yi,nv,h):\n",
    "    #dydx = function of derivatives\n",
    "    #xi = val of x at step i\n",
    "    #yi = array of vars at step i\n",
    "    #nv = number of vars\n",
    "    #h = step size\n",
    "    \n",
    "    #declare\n",
    "    k1 = np.zeros(nv)\n",
    "    k2 = np.zeros(nv)\n",
    "    k3 = np.zeros(nv)\n",
    "    k4 = np.zeros(nv)\n",
    "    \n",
    "    #half step\n",
    "    x_ipoh = x_i + 0.5*h\n",
    "    \n",
    "    #define x at 1 step\n",
    "    x_ipo = x_i + h\n",
    "    \n",
    "    #declare a temp array\n",
    "    y_temp = np.zeros(nv)\n",
    "    \n",
    "    #advance y[] by a step h\n",
    "    y_derivs = dydx(xi,yi)\n",
    "    k1[:] = h*y_derivs[:]\n",
    "    \n",
    "    #k2 vals\n",
    "    #NXT CLASS\n",
    "    \n",
    "    \n",
    "    #k_1 = h*g(x_i,f_i)\n",
    "    #k_2 = h*g(x_ipoh, f_i + 0.5*k_1)\n",
    "    #k_3 = h*g(x_ipoh, f_i + 0.5*k_2)\n",
    "    #k_4 = h*g(x_ipo, f_i + k_3)\n",
    "    \n",
    "    f_ipo = f_i + (k_1 + 2*k_2 + 2*k_3 + k_4)/6\n",
    "    \n",
    "    return f_ipo"
   ]
  }
 ],
 "metadata": {
  "kernelspec": {
   "display_name": "Python 3 (ipykernel)",
   "language": "python",
   "name": "python3"
  },
  "language_info": {
   "codemirror_mode": {
    "name": "ipython",
    "version": 3
   },
   "file_extension": ".py",
   "mimetype": "text/x-python",
   "name": "python",
   "nbconvert_exporter": "python",
   "pygments_lexer": "ipython3",
   "version": "3.9.7"
  }
 },
 "nbformat": 4,
 "nbformat_minor": 5
}
