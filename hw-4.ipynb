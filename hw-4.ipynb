{
 "cells": [
  {
   "cell_type": "code",
   "execution_count": 19,
   "id": "a3419f6d",
   "metadata": {},
   "outputs": [],
   "source": [
    "%matplotlib inline\n",
    "import numpy as np\n",
    "import matplotlib.pyplot as plt"
   ]
  },
  {
   "cell_type": "markdown",
   "id": "cdb2bb77",
   "metadata": {},
   "source": [
    "# Define a function to find the roots of pi"
   ]
  },
  {
   "cell_type": "code",
   "execution_count": 20,
   "id": "8dceacec",
   "metadata": {},
   "outputs": [],
   "source": [
    "def func_for_roots(x):\n",
    "    a = 1.01\n",
    "    b = -3.04\n",
    "    c = 2.07\n",
    "    return a*x**2 + b*x + c"
   ]
  },
  {
   "cell_type": "markdown",
   "id": "9849ac25",
   "metadata": {},
   "source": [
    "# Check if initial bracket is valid"
   ]
  },
  {
   "cell_type": "code",
   "execution_count": 21,
   "id": "f568fb14",
   "metadata": {},
   "outputs": [],
   "source": [
    "def check_initial_values(f, x_min, x_max, tol):\n",
    "    \n",
    "    #check init conditions\n",
    "    y_min = f(x_min)\n",
    "    y_max = f(x_max)\n",
    "    \n",
    "    #check that x_min and x_max contain a zero, or bracket a root\n",
    "    if(y_min*y_max>0.0):\n",
    "        print(\"No zero crossing found in the range: \", x_min, x_max)\n",
    "        s = \"f(%f) = %f, f(%f) = %f\" % (x_min,y_min,x_max,y_max)\n",
    "        print(s)\n",
    "        return 0\n",
    "    \n",
    "    #if x_min is a root, then return flag == 1\n",
    "    if(np.fabs(y_min)<tol):\n",
    "        return 1\n",
    "    \n",
    "    #if x_max is a root, then return flag == 2\n",
    "    if(np.fabs(y_max)<tol):\n",
    "        return 2\n",
    "    \n",
    "    #if we reach this point we did not guess a root\n",
    "    #so we have to use this valid bracket to proceed\n",
    "    return 3"
   ]
  },
  {
   "cell_type": "markdown",
   "id": "1566173d",
   "metadata": {},
   "source": [
    "# Work main function"
   ]
  },
  {
   "cell_type": "code",
   "execution_count": 26,
   "id": "740b39b8",
   "metadata": {},
   "outputs": [],
   "source": [
    "def bisection_root_finding(f, x_min_start, x_max_start, tol):\n",
    "    \n",
    "    #this function uses bisection search to find a root\n",
    "    \n",
    "    x_min = x_min_start #min x in bracket\n",
    "    x_max = x_max_start #max x in bracket\n",
    "    x_mid = 0.0 #midpoint\n",
    "    \n",
    "    y_min = f(x_min) #function val at x_min\n",
    "    y_max = f(x_max) #func val at x_max\n",
    "    y_mid = 0.0 #func val at midpoint\n",
    "    \n",
    "    imax = 10000 #max number of iterations\n",
    "    i = 0 #iteration counter\n",
    "    \n",
    "    #check init vals\n",
    "    flag = check_initial_values(f, x_min, x_max, tol)\n",
    "    \n",
    "    if(flag==0):\n",
    "        print(\"Error in bisection_root_finding\")\n",
    "        raise ValueError('Initial values invalid', x_min, x_max)\n",
    "    elif(flag==1):\n",
    "        #lucky guess\n",
    "        return x_min\n",
    "    elif(flag==2):\n",
    "        #another lucky guess\n",
    "        return x_max\n",
    "    #if we reach here, then we need to conduct the search\n",
    "    \n",
    "    #set a flag\n",
    "    flag = 1\n",
    "    \n",
    "    #enter while loop\n",
    "    while(flag):\n",
    "        x_mid = 0.5*(x_min+x_max) #midpoint\n",
    "        y_mid = f(x_mid)\n",
    "        \n",
    "        #check if x_mid is a root\n",
    "        if(np.fabs(y_mid)<tol):\n",
    "            flag = 0\n",
    "        else:\n",
    "            #x_mid is not a root\n",
    "            \n",
    "            #if the product of the function at the midpoint\n",
    "            #and at one of the end points is greater than zero,\n",
    "            #replace this endpoint\n",
    "            if(f(x_min)*f(x_mid)>0):\n",
    "                #replace x_min with x_mid\n",
    "                x_min = x_mid\n",
    "            else:\n",
    "                #replace x_max with x_mid\n",
    "                x_max = x_mid\n",
    "                \n",
    "        #print out the iteration\n",
    "        print(x_min, f(x_min), x_max, f(x_max))\n",
    "        \n",
    "        #count the iteration\n",
    "        i += 1\n",
    "        \n",
    "        #if we have exceeded the max number of iterations, exit\n",
    "        if(i>=imax):\n",
    "            print(\"Exceeded max number of iterations = \", i)\n",
    "            s = \"Min bracket f(%f) = %f\" % (x_min,f(x_min))\n",
    "            print(s)\n",
    "            s = \"Max bracket f(%f) = %f\" % (x_max,f(x_max))\n",
    "            print(s)\n",
    "            s = \"Mid bracket f(%f) = %f\" % (x_mid,f(x_mid))\n",
    "            print(s)\n",
    "            raise StopIteration('Stopping iterations after ', i)\n",
    "            \n",
    "    #report how many iterations were completed\n",
    "    print(\"number of iterations: \", i)\n",
    "    #we are done!\n",
    "    return x_mid   \n",
    "    "
   ]
  },
  {
   "cell_type": "markdown",
   "id": "bf9afbb4",
   "metadata": {},
   "source": [
    "## Perform the Search from 0 to 1.5"
   ]
  },
  {
   "cell_type": "code",
   "execution_count": 27,
   "id": "617f6982",
   "metadata": {},
   "outputs": [
    {
     "name": "stdout",
     "output_type": "stream",
     "text": [
      "0.0 2.07\n",
      "1.5 -0.2175000000000007\n",
      "0.75 0.3581249999999996 1.5 -0.2175000000000007\n",
      "0.75 0.3581249999999996 1.125 -0.07171875000000005\n",
      "0.9375 0.10769531249999975 1.125 -0.07171875000000005\n",
      "1.03125 0.009111328124999485 1.125 -0.07171875000000005\n",
      "1.03125 0.009111328124999485 1.078125 -0.033522949218749876\n",
      "1.03125 0.009111328124999485 1.0546875 -0.012760620117187482\n",
      "1.03125 0.009111328124999485 1.04296875 -0.0019633483886720704\n",
      "1.037109375 0.0035393142700193003 1.04296875 -0.0019633483886720704\n",
      "1.0400390625 0.0007793140411376243 1.04296875 -0.0019633483886720704\n",
      "1.0400390625 0.0007793140411376243 1.04150390625 -0.0005941843986509987\n",
      "1.040771484375 9.202301502186927e-05 1.04150390625 -0.0005941843986509987\n",
      "1.040771484375 9.202301502186927e-05 1.0411376953125 -0.0002512161433698701\n",
      "1.040771484375 9.202301502186927e-05 1.04095458984375 -7.963042706249368e-05\n",
      "1.040863037109375 6.1878282573424315e-06 1.04095458984375 -7.963042706249368e-05\n",
      "1.040863037109375 6.1878282573424315e-06 1.0409088134765625 -3.6723415833161965e-05\n",
      "1.040863037109375 6.1878282573424315e-06 1.0408859252929688 -1.5268322895334308e-05\n",
      "1.040863037109375 6.1878282573424315e-06 1.0408744812011719 -4.540379595852073e-06\n",
      "1.040863037109375 6.1878282573424315e-06 1.0408744812011719 -4.540379595852073e-06\n",
      "number of iterations:  18\n",
      "Root found with y(1.040869) = -0.000001\n"
     ]
    }
   ],
   "source": [
    "x_min = 0.0\n",
    "x_max = 1.5\n",
    "tolerance = 1.0e-6\n",
    "\n",
    "#print the init guesses\n",
    "print(x_min,func_for_roots(x_min))\n",
    "print(x_max,func_for_roots(x_max))\n",
    "\n",
    "x_root_1 = bisection_root_finding(func_for_roots,x_min,x_max,tolerance)\n",
    "y_root_1 = func_for_roots(x_root)\n",
    "\n",
    "s = \"Root found with y(%f) = %f\" % (x_root_1,y_root_1)\n",
    "print(s)"
   ]
  },
  {
   "cell_type": "markdown",
   "id": "e565aa5f",
   "metadata": {},
   "source": [
    "## Perform the search from 1.5 to 3"
   ]
  },
  {
   "cell_type": "code",
   "execution_count": 28,
   "id": "733319bb",
   "metadata": {},
   "outputs": [
    {
     "name": "stdout",
     "output_type": "stream",
     "text": [
      "1.5 -0.2175000000000007\n",
      "3.0 2.0399999999999987\n",
      "1.5 -0.2175000000000007 2.25 0.3431250000000001\n",
      "1.875 -0.07921875000000034 2.25 0.3431250000000001\n",
      "1.875 -0.07921875000000034 2.0625 0.09644531249999977\n",
      "1.96875 -0.0002636718750004263 2.0625 0.09644531249999977\n",
      "1.96875 -0.0002636718750004263 2.015625 0.045871582031249414\n",
      "1.96875 -0.0002636718750004263 1.9921875 0.022249145507811985\n",
      "1.96875 -0.0002636718750004263 1.98046875 0.01085403442382793\n",
      "1.96875 -0.0002636718750004263 1.974609375 0.005260505676269123\n",
      "1.96875 -0.0002636718750004263 1.9716796875 0.0024897480010981354\n",
      "1.96875 -0.0002636718750004263 1.97021484375 0.001110870838165301\n",
      "1.96875 -0.0002636718750004263 1.969482421875 0.0004230576753614379\n",
      "1.96875 -0.0002636718750004263 1.9691162109375 7.955744862586656e-05\n",
      "1.96893310546875 -9.20910760759952e-05 1.9691162109375 7.955744862586656e-05\n",
      "1.969024658203125 -6.275279447631732e-06 1.9691162109375 7.955744862586656e-05\n",
      "1.969024658203125 -6.275279447631732e-06 1.9690704345703125 3.663896815853107e-05\n",
      "1.969024658203125 -6.275279447631732e-06 1.9690475463867188 1.5181315248025129e-05\n",
      "1.969024658203125 -6.275279447631732e-06 1.9690361022949219 4.452885622896474e-06\n",
      "1.969024658203125 -6.275279447631732e-06 1.9690361022949219 4.452885622896474e-06\n",
      "number of iterations:  18\n",
      "Root found with y(1.969030) = -0.000001\n"
     ]
    }
   ],
   "source": [
    "x_min = 1.5\n",
    "x_max = 3.0\n",
    "tolerance = 1.0e-6\n",
    "\n",
    "#print the init guesses\n",
    "print(x_min,func_for_roots(x_min))\n",
    "print(x_max,func_for_roots(x_max))\n",
    "\n",
    "x_root_2 = bisection_root_finding(func_for_roots,x_min,x_max,tolerance)\n",
    "y_root_2 = func_for_roots(x_root)\n",
    "\n",
    "s = \"Root found with y(%f) = %f\" % (x_root_2,y_root_2)\n",
    "print(s)"
   ]
  },
  {
   "cell_type": "markdown",
   "id": "6b25836e",
   "metadata": {},
   "source": [
    "# Graphing our results"
   ]
  },
  {
   "cell_type": "code",
   "execution_count": 94,
   "id": "ebb86a89",
   "metadata": {},
   "outputs": [
    {
     "data": {
      "image/png": "[encoded data removed]",
      "text/plain": [
       "<Figure size 432x432 with 1 Axes>"
      ]
     },
     "metadata": {
      "needs_background": "light"
     },
     "output_type": "display_data"
    }
   ],
   "source": [
    "#create graph figure\n",
    "fig = plt.figure(figsize=(6,6))\n",
    "\n",
    "#define x\n",
    "x = np.linspace(0, 3, 1000)\n",
    "\n",
    "#limit the graph\n",
    "plt.xlim([0,3])\n",
    "plt.ylim([-0.5,2.1])\n",
    "\n",
    "#create plot of f(x)\n",
    "plt.plot(x, func_for_roots(x))\n",
    "\n",
    "#plot a horizontal line @ y = 0\n",
    "def zero_func(var):\n",
    "    return 0*var\n",
    "\n",
    "plt.plot(x, zero_func(x), color = 'gray')\n",
    "\n",
    "#plot colored points at each root \n",
    "root_point_x_1 = np.array([x_root_1])\n",
    "root_point_y_1 = np.array([y_root_1])\n",
    "plt.scatter(root_point_x_1, root_point_y_1)\n",
    "\n",
    "root_point_x_2 = np.array([x_root_2])\n",
    "root_point_y_2 = np.array([y_root_2])\n",
    "plt.scatter(root_point_x_2, root_point_y_2)\n",
    "\n",
    "#plot colored points at each initial bracket value\n",
    "bracket_points_x = np.array([0.0,1.5,3.0])\n",
    "bracket_points_y = func_for_roots(bracket_points_x)\n",
    "plt.scatter(bracket_points_x, bracket_points_y)\n",
    "\n",
    "\n",
    "#annotate the points\n",
    "plt.annotate('first root', xy=(x_root_1, 0),  xycoords='data',\n",
    "            xytext=(0.4, 0.5), textcoords='axes fraction',\n",
    "            arrowprops=dict(facecolor='black', shrink=0.05),\n",
    "            horizontalalignment='right', verticalalignment='top',\n",
    "            )\n",
    "plt.annotate('second root', xy=(x_root_2, 0),  xycoords='data',\n",
    "            xytext=(0.65, 0.5), textcoords='axes fraction',\n",
    "            arrowprops=dict(facecolor='black', shrink=0.05),\n",
    "            horizontalalignment='right', verticalalignment='top',\n",
    "            )\n",
    "\n",
    "plt.show()"
   ]
  },
  {
   "cell_type": "code",
   "execution_count": null,
   "id": "554036a2",
   "metadata": {},
   "outputs": [],
   "source": []
  },
  {
   "cell_type": "code",
   "execution_count": null,
   "id": "db5e38cc",
   "metadata": {},
   "outputs": [],
   "source": []
  }
 ],
 "metadata": {
  "kernelspec": {
   "display_name": "Python 3 (ipykernel)",
   "language": "python",
   "name": "python3"
  },
  "language_info": {
   "codemirror_mode": {
    "name": "ipython",
    "version": 3
   },
   "file_extension": ".py",
   "mimetype": "text/x-python",
   "name": "python",
   "nbconvert_exporter": "python",
   "pygments_lexer": "ipython3",
   "version": "3.9.7"
  }
 },
 "nbformat": 4,
 "nbformat_minor": 5
}
