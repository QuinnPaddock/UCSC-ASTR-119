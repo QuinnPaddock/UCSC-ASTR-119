{
 "cells": [
  {
   "cell_type": "markdown",
   "id": "89024d91",
   "metadata": {},
   "source": [
    "First, we import matplotlib as usual"
   ]
  },
  {
   "cell_type": "code",
   "execution_count": null,
   "id": "16cb38f8",
   "metadata": {},
   "outputs": [],
   "source": [
    "%matplotlib inline\n",
    "import numpy as np\n",
    "import matplotlib.pyplot as plt"
   ]
  },
  {
   "cell_type": "markdown",
   "id": "f47860a8",
   "metadata": {},
   "source": [
    "The we define an array of angles, and their sines and cosines using numpy. This time we will use linespace"
   ]
  },
  {
   "cell_type": "code",
   "execution_count": null,
   "id": "4ebf5df2",
   "metadata": {},
   "outputs": [],
   "source": [
    "x = np.linspace(0,2*np.pi,100)\n",
    "print(\"First element of x = \", x[0])\n",
    "print(\"Last element of x = \", x[-1])\n",
    "print(\"2*pi = \", 2*np.pi)"
   ]
  },
  {
   "cell_type": "code",
   "execution_count": null,
   "id": "96a2491c",
   "metadata": {},
   "outputs": [],
   "source": [
    "y = np.sin(x)\n",
    "z = np.cos(x)\n",
    "w = np.sin(4*x)\n",
    "v = np.cos(4*x)"
   ]
  },
  {
   "cell_type": "markdown",
   "id": "2b15fd80",
   "metadata": {},
   "source": [
    "Now lets make a two panel plot side-by-side"
   ]
  },
  {
   "cell_type": "code",
   "execution_count": null,
   "id": "a67e7618",
   "metadata": {},
   "outputs": [],
   "source": [
    "#call subplots to generate a multipanel figure\n",
    "#this means 1 row, 2 columns as formatted\n",
    "f, axarr = plt.subplots(1,2)\n",
    "\n",
    "#treat axarr as an array, from left to right\n",
    "#first panel, on the left\n",
    "axarr[0].plot(x,y)\n",
    "axarr[0].set_xlabel('x')\n",
    "axarr[0].set_ylabel('sin(x)')\n",
    "axarr[0].set_title(r'$\\sin(x)$')\n",
    "\n",
    "#second panel, on the right\n",
    "axarr[1].plot(x,z)\n",
    "axarr[1].set_xlabel('x')\n",
    "axarr[1].set_ylabel('cos(x)')\n",
    "axarr[1].set_title(r'$\\cos(x)$')"
   ]
  },
  {
   "cell_type": "markdown",
   "id": "e4f7d95c",
   "metadata": {},
   "source": [
    "### the plots are too close together, so we must add more space between"
   ]
  },
  {
   "cell_type": "code",
   "execution_count": null,
   "id": "2b05d669",
   "metadata": {},
   "outputs": [],
   "source": [
    "#call subplots to generate a multipanel figure\n",
    "#this means 1 row, 2 columns as formatted\n",
    "f, axarr = plt.subplots(1,2)\n",
    "\n",
    "#treat axarr as an array, from left to right\n",
    "#first panel, on the left\n",
    "axarr[0].plot(x,y)\n",
    "axarr[0].set_xlabel('x')\n",
    "axarr[0].set_ylabel('sin(x)')\n",
    "axarr[0].set_title(r'$\\sin(x)$')\n",
    "\n",
    "#second panel, on the right\n",
    "axarr[1].plot(x,z)\n",
    "axarr[1].set_xlabel('x')\n",
    "axarr[1].set_ylabel('cos(x)')\n",
    "axarr[1].set_title(r'$\\cos(x)$')\n",
    "\n",
    "#add more space between figures\n",
    "f.subplots_adjust(wspace=0.4)"
   ]
  },
  {
   "cell_type": "markdown",
   "id": "9f4b2c6b",
   "metadata": {},
   "source": [
    "### fixing the aspect ratio..."
   ]
  },
  {
   "cell_type": "code",
   "execution_count": null,
   "id": "961a00f9",
   "metadata": {},
   "outputs": [],
   "source": [
    "#call subplots to generate a multipanel figure\n",
    "#this means 1 row, 2 columns as formatted\n",
    "f, axarr = plt.subplots(1,2)\n",
    "\n",
    "#treat axarr as an array, from left to right\n",
    "#first panel, on the left\n",
    "axarr[0].plot(x,y)\n",
    "axarr[0].set_xlabel('x')\n",
    "axarr[0].set_ylabel('sin(x)')\n",
    "axarr[0].set_title(r'$\\sin(x)$')\n",
    "\n",
    "#second panel, on the right\n",
    "axarr[1].plot(x,z)\n",
    "axarr[1].set_xlabel('x')\n",
    "axarr[1].set_ylabel('cos(x)')\n",
    "axarr[1].set_title(r'$\\cos(x)$')\n",
    "\n",
    "#add more space between figures\n",
    "f.subplots_adjust(wspace=0.4)\n",
    "\n",
    "#set the limits\n",
    "#ADD CODE\n",
    "\n",
    "#fix the aspect ratio\n",
    "#here are two options\n",
    "\n",
    "#makes the ratio of the rick units equal, a bit counter intuitive\n",
    "axarr[0].set_aspect('equal')\n",
    "\n",
    "#make a square by setting the aspect ratio to be the ratio of the range\n",
    "axarr[1].set_aspect(np.pi)"
   ]
  },
  {
   "cell_type": "markdown",
   "id": "9e022900",
   "metadata": {},
   "source": [
    "## now add square fig, merge them into one, remove the titles, and add legends"
   ]
  },
  {
   "cell_type": "code",
   "execution_count": null,
   "id": "012a5021",
   "metadata": {},
   "outputs": [],
   "source": [
    "#adjust the size of the figure\n",
    "fig = plt.figure(figsize=(6,6))\n",
    "\n",
    "plt.plot(x, y, label=r'$y = \\sin(x)$')\n",
    "plt.plot(x, z, label=r'$y = \\cos(x)$')\n",
    "plt.plot(x, w, label=r'$y = \\sin(4x)$')\n",
    "plt.plot(x, v, label=r'$y = \\cos(4x)$')\n",
    "\n",
    "plt.xlabel(r'$x$')\n",
    "plt.ylabel(r'$y(x)$')\n",
    "plt.xlim([0,2*np.pi])\n",
    "plt.ylim([-1.2,1.2])\n",
    "plt.legend(loc=1,framealpha=0.95) #semi transparent\n",
    "\n",
    "#fix aspect ratio\n",
    "plt.gca().set_aspect(np.pi/1.2) #square figure"
   ]
  },
  {
   "cell_type": "code",
   "execution_count": null,
   "id": "2358c0ab",
   "metadata": {},
   "outputs": [],
   "source": []
  }
 ],
 "metadata": {
  "kernelspec": {
   "display_name": "Python 3 (ipykernel)",
   "language": "python",
   "name": "python3"
  },
  "language_info": {
   "codemirror_mode": {
    "name": "ipython",
    "version": 3
   },
   "file_extension": ".py",
   "mimetype": "text/x-python",
   "name": "python",
   "nbconvert_exporter": "python",
   "pygments_lexer": "ipython3",
   "version": "3.9.7"
  }
 },
 "nbformat": 4,
 "nbformat_minor": 5
}
