{
 "cells": [
  {
   "cell_type": "code",
   "execution_count": null,
   "id": "473f686b",
   "metadata": {},
   "outputs": [],
   "source": [
    "#importing numpy and matplotlib\n",
    "%matplotlib inline\n",
    "import numpy as np\n",
    "import matplotlib.pyplot as plt"
   ]
  },
  {
   "cell_type": "code",
   "execution_count": null,
   "id": "ec832316",
   "metadata": {},
   "outputs": [],
   "source": [
    "#using a single line, create an array with 1000 values with range = [0,2*pi]\n",
    "x = np.linspace(0,2*np.pi,1000)\n",
    "\n",
    "#make sure it works\n",
    "print(\"first element: \", x[0])\n",
    "print(\"second element: \", x[1])\n",
    "print(\"last element: \", x[-1])"
   ]
  },
  {
   "cell_type": "code",
   "execution_count": null,
   "id": "5501083e",
   "metadata": {},
   "outputs": [],
   "source": [
    "#create functions of x to be plotted later\n",
    "y = 5.5*np.cos(2*x) + 5.5\n",
    "z = 0.02*np.exp(x)\n",
    "w = 0.25*(x**2) + np.sin(10*x)"
   ]
  },
  {
   "cell_type": "code",
   "execution_count": null,
   "id": "b4b39b10",
   "metadata": {},
   "outputs": [],
   "source": [
    "#plot functions on a single plot with range x = [0,2*pi] and vertical range y = [-1, 10]\n",
    "fig = plt.figure(figsize=(6,6))\n",
    "\n",
    "plt.plot(x,y)\n",
    "plt.plot(x,z)\n",
    "plt.plot(x,w)\n",
    "\n",
    "#labels\n",
    "plt.xlabel('Time in ASTR 119')\n",
    "plt.ylabel('Level of Awesomeness')\n",
    "\n",
    "#x and y range\n",
    "plt.xlim([0,2*np.pi])\n",
    "plt.ylim([-1,10])\n"
   ]
  },
  {
   "cell_type": "code",
   "execution_count": null,
   "id": "5d4d6fc7",
   "metadata": {},
   "outputs": [],
   "source": []
  }
 ],
 "metadata": {
  "kernelspec": {
   "display_name": "Python 3 (ipykernel)",
   "language": "python",
   "name": "python3"
  },
  "language_info": {
   "codemirror_mode": {
    "name": "ipython",
    "version": 3
   },
   "file_extension": ".py",
   "mimetype": "text/x-python",
   "name": "python",
   "nbconvert_exporter": "python",
   "pygments_lexer": "ipython3",
   "version": "3.9.7"
  }
 },
 "nbformat": 4,
 "nbformat_minor": 5
}
