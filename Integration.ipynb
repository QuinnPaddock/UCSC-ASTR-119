{
 "cells": [
  {
   "cell_type": "code",
   "execution_count": null,
   "id": "c3a59ec3",
   "metadata": {},
   "outputs": [],
   "source": [
    "%matplotlib inline\n",
    "import numpy as np\n",
    "import matplotlib.pyplot as plt"
   ]
  },
  {
   "cell_type": "markdown",
   "id": "7fb23b42",
   "metadata": {},
   "source": [
    "### Define a function to integrate"
   ]
  },
  {
   "cell_type": "code",
   "execution_count": null,
   "id": "2b662e03",
   "metadata": {},
   "outputs": [],
   "source": [
    "def func(x):\n",
    "    a = 1.01\n",
    "    b= -3.04\n",
    "    c = 2.07\n",
    "    return a*x**2 + b*x + c"
   ]
  },
  {
   "cell_type": "markdown",
   "id": "2a320daf",
   "metadata": {},
   "source": [
    "### Define it's integral so we know the right answer"
   ]
  },
  {
   "cell_type": "code",
   "execution_count": null,
   "id": "043f8989",
   "metadata": {},
   "outputs": [],
   "source": [
    "def func_integral(x):\n",
    "    a = 1.01\n",
    "    b= -3.04\n",
    "    c = 2.07\n",
    "    return (a*x**3)/3. + (b*x**2)/2. + c*x"
   ]
  },
  {
   "cell_type": "markdown",
   "id": "27d45e3a",
   "metadata": {},
   "source": [
    "### Define core of trapezoid method"
   ]
  },
  {
   "cell_type": "code",
   "execution_count": null,
   "id": "ab17ca92",
   "metadata": {},
   "outputs": [],
   "source": [
    "def trapezoid_core(f,x,h):\n",
    "    return 0.5*h*(f(x*h)+f(x))"
   ]
  },
  {
   "cell_type": "markdown",
   "id": "0da8c206",
   "metadata": {},
   "source": [
    "### Define the wrapper function to perform the trapezoid method"
   ]
  },
  {
   "cell_type": "code",
   "execution_count": null,
   "id": "e25978ab",
   "metadata": {},
   "outputs": [],
   "source": [
    "def trapezoid_method(f,a,b,N):\n",
    "    #f == function to integrate\n",
    "    #a == lower limit of integration\n",
    "    #b == upper limit of integration\n",
    "    #N == number of intervals to use\n",
    "    \n",
    "    #define x values to perform the trapezoid rule\n",
    "    x = np.linspace(a,b,N)\n",
    "    h = x[1]-x[0]\n",
    "    \n",
    "    #define the value of the integral\n",
    "    Fint = 0.0\n",
    "    \n",
    "    #perform the integral using the trapezoid method\n",
    "    for i in range(0,len(x)-1,1):\n",
    "        Fint += trapezoid_core(f,x[i],h)\n",
    "        \n",
    "    #return the answer\n",
    "    return Fint"
   ]
  },
  {
   "cell_type": "markdown",
   "id": "dad8a3b8",
   "metadata": {},
   "source": [
    "### Define the core of simpson's method"
   ]
  },
  {
   "cell_type": "code",
   "execution_count": null,
   "id": "43705bd1",
   "metadata": {},
   "outputs": [],
   "source": [
    "def simpsons_core(f,x,h):\n",
    "    return h*(f(x) + 4*f(x+h) + f(x+2*h))/3"
   ]
  },
  {
   "cell_type": "markdown",
   "id": "9524adb2",
   "metadata": {},
   "source": [
    "### Define a wrapper for simpson's method"
   ]
  },
  {
   "cell_type": "code",
   "execution_count": null,
   "id": "b453cf99",
   "metadata": {},
   "outputs": [],
   "source": [
    "def simpsons_method(f,a,b,N):\n",
    "    #f == function to integrate\n",
    "    #a == lower limit of integration\n",
    "    #b == upper limit of integration\n",
    "    #N == number of intervals to use\n",
    "    \n",
    "    \n",
    "    x = np.linspace(a,b,N)\n",
    "    h = x[1]-x[0]\n",
    "    \n",
    "    #define the value of the integral\n",
    "    Fint = 0.0\n",
    "    \n",
    "    #perform the integral using the simpson's method\n",
    "    for i in range(0,len(x)-2,2):\n",
    "        Fint += simpsons_core(f,x[i],h)\n",
    "        \n",
    "    #apply simpson's rule over the last interval if X is even\n",
    "    if((N%2)==0):\n",
    "        Fint += simpsons_core(f,x[-2],0.5*h)\n",
    "    \n",
    "    #return the answer\n",
    "    return Fint"
   ]
  },
  {
   "cell_type": "markdown",
   "id": "b2bbf587",
   "metadata": {},
   "source": [
    "### Define Romberg core"
   ]
  },
  {
   "cell_type": "code",
   "execution_count": null,
   "id": "c938313c",
   "metadata": {},
   "outputs": [],
   "source": [
    "def romberg_core(f,a,b,i):\n",
    "    #we need the difference between a and b\n",
    "    h = b-a\n",
    "    \n",
    "    #interval betwen function evaluations at refine level i\n",
    "    dh = h/2.**(i)\n",
    "    \n",
    "    #we need the cofactor\n",
    "    K = h/2.**(i+1)\n",
    "    \n",
    "    #and the function evaluations\n",
    "    M = 0.0\n",
    "    for j in range(2**i):\n",
    "        M += f(a + 0.5*dh +j*dh)\n",
    "        \n",
    "    #return the answer\n",
    "    return K*M"
   ]
  },
  {
   "cell_type": "markdown",
   "id": "2c566d51",
   "metadata": {},
   "source": [
    "### Define a wrapper function"
   ]
  },
  {
   "cell_type": "code",
   "execution_count": null,
   "id": "e0522b25",
   "metadata": {},
   "outputs": [],
   "source": [
    "def romberg_integration(f,a,b,tol):\n",
    "    #define an iteration variable\n",
    "    i=0\n",
    "    \n",
    "    #define a max number of iterations\n",
    "    imax = 1000\n",
    "    \n",
    "    #define an error estimate\n",
    "    delta = 100.0*np.fabs(tol)\n",
    "    \n",
    "    #set an array of integral answers\n",
    "    I = np.zeros(imax,dtype=float)\n",
    "    \n",
    "    #fet the zeroth romberg iteration first\n",
    "    I[0] = 0.5*(b-a)*(f(a) + f(b))\n",
    "    \n",
    "    #iterate by 1\n",
    "    i += 1\n",
    "    \n",
    "    #iterate until we reach tolerance\n",
    "    while(delta>tol):\n",
    "        \n",
    "        #find the romberg integration\n",
    "        I[i] = 0.5*I[i-1] + romberg_core(f,a,b,i)\n",
    "        \n",
    "        #compute a fractional error estimate\n",
    "        delta = np.fabs((I[i]-I[i-1])/I[i])\n",
    "        \n",
    "        print(i,\":\",I[i],I[i-1],delta)\n",
    "        \n",
    "        if(delta>tol):\n",
    "            #iterate\n",
    "            i += 1\n",
    "            \n",
    "            #if we've reached maximim iterations\n",
    "            if(i>imax):\n",
    "                print(\"Max iterations reached\")\n",
    "                raise StopIteration(\"Stopping iterations after \",i)\n",
    "                \n",
    "    #return the answer\n",
    "    return I[i]"
   ]
  },
  {
   "cell_type": "markdown",
   "id": "62242328",
   "metadata": {},
   "source": [
    "### Check the interages"
   ]
  },
  {
   "cell_type": "code",
   "execution_count": null,
   "id": "e4a14fbb",
   "metadata": {},
   "outputs": [],
   "source": [
    "Answer = func_integral(1) - func_integral(0)\n",
    "print(Answer)\n",
    "print(\"Trapezoidal method\")\n",
    "print(trapezoid_method(func,0,1,10))\n",
    "print(\"Simpson's method\")\n",
    "print(simpsons_method(func,0,1,10))\n",
    "print(\"Romberg\")\n",
    "tolerance = 1.0e-4\n",
    "RI = romberg_integration(func,0,1,tolerance)\n",
    "print(RI, (RI-Answer)/Answer, tolerance)"
   ]
  },
  {
   "cell_type": "code",
   "execution_count": null,
   "id": "db1c61d7",
   "metadata": {},
   "outputs": [],
   "source": []
  },
  {
   "cell_type": "code",
   "execution_count": null,
   "id": "cb6e1e13",
   "metadata": {},
   "outputs": [],
   "source": []
  }
 ],
 "metadata": {
  "kernelspec": {
   "display_name": "Python 3 (ipykernel)",
   "language": "python",
   "name": "python3"
  },
  "language_info": {
   "codemirror_mode": {
    "name": "ipython",
    "version": 3
   },
   "file_extension": ".py",
   "mimetype": "text/x-python",
   "name": "python",
   "nbconvert_exporter": "python",
   "pygments_lexer": "ipython3",
   "version": "3.9.7"
  }
 },
 "nbformat": 4,
 "nbformat_minor": 5
}
