{
 "cells": [
  {
   "cell_type": "code",
   "execution_count": 2,
   "id": "2e72d3b4",
   "metadata": {},
   "outputs": [],
   "source": [
    "%matplotlib inline\n",
    "import numpy as np\n",
    "import matplotlib.pyplot as plt"
   ]
  },
  {
   "cell_type": "markdown",
   "id": "550b2c2d",
   "metadata": {},
   "source": [
    "## Define a function to integrate"
   ]
  },
  {
   "cell_type": "code",
   "execution_count": 3,
   "id": "63e752e8",
   "metadata": {},
   "outputs": [],
   "source": [
    "def func(x):\n",
    "    return np.exp(-2*x)*np.cos(10*x)"
   ]
  },
  {
   "cell_type": "markdown",
   "id": "27faefa1",
   "metadata": {},
   "source": [
    "### Define it's integral so we know the right answer"
   ]
  },
  {
   "cell_type": "code",
   "execution_count": 4,
   "id": "07fa39df",
   "metadata": {},
   "outputs": [],
   "source": [
    "def func_integral(x):\n",
    "    return (-1/52)*np.exp(-2*x)*(np.cos(10*x)-5*np.sin(10*x))"
   ]
  },
  {
   "cell_type": "markdown",
   "id": "711f714d",
   "metadata": {},
   "source": [
    "### Define core of trapezoid method"
   ]
  },
  {
   "cell_type": "code",
   "execution_count": 5,
   "id": "da373939",
   "metadata": {},
   "outputs": [],
   "source": [
    "def trapezoid_core(f,x,h):\n",
    "    return 0.5*h*(f(x+h)+f(x))"
   ]
  },
  {
   "cell_type": "markdown",
   "id": "680cf860",
   "metadata": {},
   "source": [
    "### Define the wrapper function to perform the trapezoid method"
   ]
  },
  {
   "cell_type": "code",
   "execution_count": 6,
   "id": "fa92e742",
   "metadata": {},
   "outputs": [],
   "source": [
    "def trapezoid_method(f,a,b,N):\n",
    "    #f == function to integrate\n",
    "    #a == lower limit of integration\n",
    "    #b == upper limit of integration\n",
    "    #N == number of intervals to use\n",
    "    \n",
    "    #define x values to perform the trapezoid rule\n",
    "    x = np.linspace(a,b,N)\n",
    "    h = x[1]-x[0]\n",
    "    \n",
    "    #define the value of the integral\n",
    "    Fint = 0.0\n",
    "    \n",
    "    #perform the integral using the trapezoid method\n",
    "    for i in range(0,len(x)-1,1):\n",
    "        Fint += trapezoid_core(f,x[i],h)\n",
    "        \n",
    "    #return the answer\n",
    "    return Fint"
   ]
  },
  {
   "cell_type": "markdown",
   "id": "b548242b",
   "metadata": {},
   "source": [
    "### Define the core of simpson's method"
   ]
  },
  {
   "cell_type": "code",
   "execution_count": 7,
   "id": "61df5ba6",
   "metadata": {},
   "outputs": [],
   "source": [
    "def simpsons_core(f,x,h):\n",
    "    return h*(f(x) + 4*f(x+h) + f(x+2*h))/3"
   ]
  },
  {
   "cell_type": "markdown",
   "id": "cff1c8d7",
   "metadata": {},
   "source": [
    "### Define a wrapper for simpson's method\n"
   ]
  },
  {
   "cell_type": "code",
   "execution_count": 8,
   "id": "89cf533d",
   "metadata": {},
   "outputs": [],
   "source": [
    "def simpsons_method(f,a,b,N):\n",
    "    #f == function to integrate\n",
    "    #a == lower limit of integration\n",
    "    #b == upper limit of integration\n",
    "    #N == number of intervals to use\n",
    "    \n",
    "    \n",
    "    x = np.linspace(a,b,N)\n",
    "    h = x[1]-x[0]\n",
    "    \n",
    "    #define the value of the integral\n",
    "    Fint = 0.0\n",
    "    \n",
    "    #perform the integral using the simpson's method\n",
    "    for i in range(0,len(x)-2,2):\n",
    "        Fint += simpsons_core(f,x[i],h)\n",
    "        \n",
    "    #apply simpson's rule over the last interval if X is even\n",
    "    if((N%2)==0):\n",
    "        Fint += simpsons_core(f,x[-2],0.5*h)\n",
    "    \n",
    "    #return the answer\n",
    "    return Fint"
   ]
  },
  {
   "cell_type": "markdown",
   "id": "dfb02b78",
   "metadata": {},
   "source": [
    "### Define Romberg core"
   ]
  },
  {
   "cell_type": "code",
   "execution_count": 9,
   "id": "16631221",
   "metadata": {},
   "outputs": [],
   "source": [
    "def romberg_core(f,a,b,i):\n",
    "    #we need the difference between a and b\n",
    "    h = b-a\n",
    "    \n",
    "    #interval betwen function evaluations at refine level i\n",
    "    dh = h/2.**(i)\n",
    "    \n",
    "    #we need the cofactor\n",
    "    K = h/2.**(i+1)\n",
    "    \n",
    "    #and the function evaluations\n",
    "    M = 0.0\n",
    "    for j in range(2**i):\n",
    "        M += f(a + 0.5*dh +j*dh)\n",
    "        \n",
    "    #return the answer\n",
    "    return K*M"
   ]
  },
  {
   "cell_type": "markdown",
   "id": "0d0c9d66",
   "metadata": {},
   "source": [
    "### Define a wrapper function\n"
   ]
  },
  {
   "cell_type": "code",
   "execution_count": 10,
   "id": "4437ce68",
   "metadata": {},
   "outputs": [],
   "source": [
    "def romberg_integration(f,a,b,tol):\n",
    "    #define an iteration variable\n",
    "    i=0\n",
    "    \n",
    "    #define a max number of iterations\n",
    "    imax = 1000\n",
    "    \n",
    "    #define an error estimate\n",
    "    delta = 100.0*np.fabs(tol)\n",
    "    \n",
    "    #set an array of integral answers\n",
    "    I = np.zeros(imax,dtype=float)\n",
    "    \n",
    "    #fet the zeroth romberg iteration first\n",
    "    I[0] = 0.5*(b-a)*(f(a) + f(b))\n",
    "    \n",
    "    #iterate by 1\n",
    "    i += 1\n",
    "    \n",
    "    #iterate until we reach tolerance\n",
    "    while(delta>tol):\n",
    "        \n",
    "        #find the romberg integration\n",
    "        I[i] = 0.5*I[i-1] + romberg_core(f,a,b,i)\n",
    "        \n",
    "        #compute a fractional error estimate\n",
    "        delta = np.fabs((I[i]-I[i-1])/I[i])\n",
    "        \n",
    "        print(i,\":\",I[i],I[i-1],delta)\n",
    "        \n",
    "        if(delta>tol):\n",
    "            #iterate\n",
    "            i += 1\n",
    "            \n",
    "            #if we've reached maximim iterations\n",
    "            if(i>imax):\n",
    "                print(\"Max iterations reached\")\n",
    "                raise StopIteration(\"Stopping iterations after \",i)\n",
    "                \n",
    "    print(\"number of romberg iterations used = \", i)\n",
    "                \n",
    "    #return the answer\n",
    "    return I[i]"
   ]
  },
  {
   "cell_type": "markdown",
   "id": "6780e782",
   "metadata": {},
   "source": [
    "### Check the integrals"
   ]
  },
  {
   "cell_type": "code",
   "execution_count": 16,
   "id": "84e9525f",
   "metadata": {},
   "outputs": [
    {
     "name": "stdout",
     "output_type": "stream",
     "text": [
      "test\n",
      "Actual Answer: \n",
      " 0.019194856870544078\n",
      "\n",
      "Trapezoidal method\n",
      "Number of intervals for trapezoid method =  1305\n",
      "\n",
      "Simpson's method\n",
      "Number of intervals for Simpson's method =  205\n",
      "\n",
      "Romberg\n",
      "1 : 0.7868648494891817 1.5737296989783633 1.0\n",
      "2 : 0.2974797999211515 0.7868648494891817 1.6451034648327187\n",
      "3 : 0.1338682162766772 0.2974797999211515 1.222183937270994\n",
      "4 : 0.07429884868669352 0.1338682162766772 0.8017535754985687\n",
      "5 : 0.04631129469303243 0.07429884868669352 0.6043353825275767\n",
      "6 : 0.03265075906247467 0.04631129469303243 0.41838340126854\n",
      "7 : 0.02589762452336669 0.03265075906247467 0.26076270173022315\n",
      "8 : 0.022539969341304138 0.02589762452336669 0.14896449641170112\n",
      "9 : 0.02086584679503983 0.022539969341304138 0.08023266741622372\n",
      "10 : 0.02002996035051737 0.02086584679503983 0.041731807247480004\n",
      "11 : 0.01961231074592669 0.02002996035051737 0.02129527774678078\n",
      "12 : 0.019403559342457077 0.01961231074592669 0.010758407763509729\n",
      "13 : 0.01929920199007937 0.019403559342457077 0.005407340284398829\n",
      "14 : 0.019247027901207872 0.01929920199007937 0.0027107608062554305\n",
      "15 : 0.019220942003600066 0.019247027901207872 0.0013571602059316483\n",
      "16 : 0.01920789934150289 0.019220942003600066 0.0006790259499640058\n",
      "17 : 0.019201378082131116 0.01920789934150289 0.0003396245490234728\n",
      "18 : 0.019198117470364318 0.019201378082131116 0.0001698401820820051\n",
      "19 : 0.019196487168961114 0.019198117470364318 8.492706966926287e-05\n",
      "20 : 0.019195672019377927 0.019196487168961114 4.246527979663633e-05\n",
      "21 : 0.019195264444867084 0.019195672019377927 2.1233076106515646e-05\n",
      "22 : 0.019195060657681284 0.019195264444867084 1.0616647138248912e-05\n",
      "23 : 0.019194958764104236 0.019195060657681284 5.308350921731978e-06\n",
      "24 : 0.019194907817322193 0.019194958764104236 2.6541821678933438e-06\n",
      "25 : 0.01919488234392562 0.019194907817322193 1.3270931343178013e-06\n",
      "26 : 0.019194869607236317 0.01919488234392562 6.635465394946495e-07\n",
      "number of romberg iterations used =  26\n",
      "Romberg:  0.019194869607236317 \n",
      "(Difference between Romberg and answer)/answer:  6.635471327025206e-07 \n",
      "Tolerance:  1e-06\n"
     ]
    }
   ],
   "source": [
    "print(\"test\")\n",
    "\n",
    "\n",
    "Answer = func_integral(np.pi) - func_integral(0)\n",
    "print(\"Actual Answer: \\n\", Answer)\n",
    "\n",
    "\n",
    "\n",
    "print(\"\\nTrapezoidal method\")\n",
    "#print(trapezoid_method(func,0,np.pi,50))\n",
    "#trap_answer = trapezoid_method(func,0,np.pi,50)\n",
    "\n",
    "trap_interval = 5 #set the starting inverval for trapezoid method\n",
    "\n",
    "while(abs(trapezoid_method(func,0,np.pi,trap_interval) - Answer) > 1.0e-6):\n",
    "    trap_interval += 100\n",
    "    \n",
    "    if(abs(trapezoid_method(func,0,np.pi,trap_interval) - Answer) <= 1.0e-6):\n",
    "        break\n",
    "    \n",
    "print(\"Number of intervals for trapezoid method = \", trap_interval)\n",
    "\n",
    "\n",
    "print(\"\\nSimpson's method\")\n",
    "\n",
    "\n",
    "#print(simpsons_method(func,0,np.pi,50))\n",
    "\n",
    "simp_interval = 5 #set the starting interval for simpson's method\n",
    "\n",
    "while(abs(simpsons_method(func,0,np.pi,simp_interval) - Answer) > 1.0e-6):\n",
    "    simp_interval += 100\n",
    "    \n",
    "    if(abs(simpsons_method(func,0,np.pi,simp_interval) - Answer) <= 1.0e-6):\n",
    "        break\n",
    "print(\"Number of intervals for Simpson's method = \", simp_interval)\n",
    "\n",
    "\n",
    "print(\"\\nRomberg\")\n",
    "tolerance = 1.0e-6\n",
    "RI = romberg_integration(func,0,np.pi,tolerance)\n",
    "print(\"Romberg: \",RI, \"\\n(Difference between Romberg and answer)/answer: \",(RI-Answer)/Answer, \"\\nTolerance: \", tolerance)\n",
    "\n",
    "#The intervals for trapezoid and simpson's method are set to 100 becuase it was taking a while to run and I was impatient"
   ]
  },
  {
   "cell_type": "code",
   "execution_count": null,
   "id": "1206dc68",
   "metadata": {},
   "outputs": [],
   "source": []
  },
  {
   "cell_type": "code",
   "execution_count": null,
   "id": "4022ba20",
   "metadata": {},
   "outputs": [],
   "source": []
  },
  {
   "cell_type": "code",
   "execution_count": null,
   "id": "e7b3114f",
   "metadata": {},
   "outputs": [],
   "source": []
  }
 ],
 "metadata": {
  "kernelspec": {
   "display_name": "Python 3 (ipykernel)",
   "language": "python",
   "name": "python3"
  },
  "language_info": {
   "codemirror_mode": {
    "name": "ipython",
    "version": 3
   },
   "file_extension": ".py",
   "mimetype": "text/x-python",
   "name": "python",
   "nbconvert_exporter": "python",
   "pygments_lexer": "ipython3",
   "version": "3.9.7"
  }
 },
 "nbformat": 4,
 "nbformat_minor": 5
}
