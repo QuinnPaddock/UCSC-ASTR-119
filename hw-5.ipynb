{
 "cells": [
  {
   "cell_type": "code",
   "execution_count": null,
   "id": "2e72d3b4",
   "metadata": {},
   "outputs": [],
   "source": [
    "%matplotlib inline\n",
    "import numpy as np\n",
    "import matplotlib.pyplot as plt"
   ]
  },
  {
   "cell_type": "markdown",
   "id": "550b2c2d",
   "metadata": {},
   "source": [
    "## Define a function to integrate"
   ]
  },
  {
   "cell_type": "code",
   "execution_count": null,
   "id": "63e752e8",
   "metadata": {},
   "outputs": [],
   "source": [
    "def func(x):\n",
    "    return np.exp(-2*x)*np.cos(10*x)"
   ]
  },
  {
   "cell_type": "markdown",
   "id": "27faefa1",
   "metadata": {},
   "source": [
    "### Define it's integral so we know the right answer"
   ]
  },
  {
   "cell_type": "code",
   "execution_count": null,
   "id": "07fa39df",
   "metadata": {},
   "outputs": [],
   "source": [
    "def func_integral(x):\n",
    "    return (-1/52)*np.exp(-2*x)*(np.cos(10*x)-5*np.sin(10*x))"
   ]
  },
  {
   "cell_type": "markdown",
   "id": "711f714d",
   "metadata": {},
   "source": [
    "### Define core of trapezoid method"
   ]
  },
  {
   "cell_type": "code",
   "execution_count": null,
   "id": "da373939",
   "metadata": {},
   "outputs": [],
   "source": [
    "def trapezoid_core(f,x,h):\n",
    "    return 0.5*h*(f(x+h)+f(x))"
   ]
  },
  {
   "cell_type": "markdown",
   "id": "680cf860",
   "metadata": {},
   "source": [
    "### Define the wrapper function to perform the trapezoid method"
   ]
  },
  {
   "cell_type": "code",
   "execution_count": null,
   "id": "fa92e742",
   "metadata": {},
   "outputs": [],
   "source": [
    "def trapezoid_method(f,a,b,N):\n",
    "    #f == function to integrate\n",
    "    #a == lower limit of integration\n",
    "    #b == upper limit of integration\n",
    "    #N == number of intervals to use\n",
    "    \n",
    "    #define x values to perform the trapezoid rule\n",
    "    x = np.linspace(a,b,N)\n",
    "    h = x[1]-x[0]\n",
    "    \n",
    "    #define the value of the integral\n",
    "    Fint = 0.0\n",
    "    \n",
    "    #perform the integral using the trapezoid method\n",
    "    for i in range(0,len(x)-1,1):\n",
    "        Fint += trapezoid_core(f,x[i],h)\n",
    "        \n",
    "    #return the answer\n",
    "    return Fint"
   ]
  },
  {
   "cell_type": "markdown",
   "id": "b548242b",
   "metadata": {},
   "source": [
    "### Define the core of simpson's method"
   ]
  },
  {
   "cell_type": "code",
   "execution_count": null,
   "id": "61df5ba6",
   "metadata": {},
   "outputs": [],
   "source": [
    "def simpsons_core(f,x,h):\n",
    "    return h*(f(x) + 4*f(x+h) + f(x+2*h))/3"
   ]
  },
  {
   "cell_type": "markdown",
   "id": "cff1c8d7",
   "metadata": {},
   "source": [
    "### Define a wrapper for simpson's method\n"
   ]
  },
  {
   "cell_type": "code",
   "execution_count": null,
   "id": "89cf533d",
   "metadata": {},
   "outputs": [],
   "source": [
    "def simpsons_method(f,a,b,N):\n",
    "    #f == function to integrate\n",
    "    #a == lower limit of integration\n",
    "    #b == upper limit of integration\n",
    "    #N == number of intervals to use\n",
    "    \n",
    "    \n",
    "    x = np.linspace(a,b,N)\n",
    "    h = x[1]-x[0]\n",
    "    \n",
    "    #define the value of the integral\n",
    "    Fint = 0.0\n",
    "    \n",
    "    #perform the integral using the simpson's method\n",
    "    for i in range(0,len(x)-2,2):\n",
    "        Fint += simpsons_core(f,x[i],h)\n",
    "        \n",
    "    #apply simpson's rule over the last interval if X is even\n",
    "    if((N%2)==0):\n",
    "        Fint += simpsons_core(f,x[-2],0.5*h)\n",
    "    \n",
    "    #return the answer\n",
    "    return Fint"
   ]
  },
  {
   "cell_type": "markdown",
   "id": "dfb02b78",
   "metadata": {},
   "source": [
    "### Define Romberg core"
   ]
  },
  {
   "cell_type": "code",
   "execution_count": null,
   "id": "16631221",
   "metadata": {},
   "outputs": [],
   "source": [
    "def romberg_core(f,a,b,i):\n",
    "    #we need the difference between a and b\n",
    "    h = b-a\n",
    "    \n",
    "    #interval betwen function evaluations at refine level i\n",
    "    dh = h/2.**(i)\n",
    "    \n",
    "    #we need the cofactor\n",
    "    K = h/2.**(i+1)\n",
    "    \n",
    "    #and the function evaluations\n",
    "    M = 0.0\n",
    "    for j in range(2**i):\n",
    "        M += f(a + 0.5*dh +j*dh)\n",
    "        \n",
    "    #return the answer\n",
    "    return K*M"
   ]
  },
  {
   "cell_type": "markdown",
   "id": "0d0c9d66",
   "metadata": {},
   "source": [
    "### Define a wrapper function\n"
   ]
  },
  {
   "cell_type": "code",
   "execution_count": null,
   "id": "4437ce68",
   "metadata": {},
   "outputs": [],
   "source": [
    "def romberg_integration(f,a,b,tol):\n",
    "    #define an iteration variable\n",
    "    i=0\n",
    "    \n",
    "    #define a max number of iterations\n",
    "    imax = 1000\n",
    "    \n",
    "    #define an error estimate\n",
    "    delta = 100.0*np.fabs(tol)\n",
    "    \n",
    "    #set an array of integral answers\n",
    "    I = np.zeros(imax,dtype=float)\n",
    "    \n",
    "    #fet the zeroth romberg iteration first\n",
    "    I[0] = 0.5*(b-a)*(f(a) + f(b))\n",
    "    \n",
    "    #iterate by 1\n",
    "    i += 1\n",
    "    \n",
    "    #iterate until we reach tolerance\n",
    "    while(delta>tol):\n",
    "        \n",
    "        #find the romberg integration\n",
    "        I[i] = 0.5*I[i-1] + romberg_core(f,a,b,i)\n",
    "        \n",
    "        #compute a fractional error estimate\n",
    "        delta = np.fabs((I[i]-I[i-1])/I[i])\n",
    "        \n",
    "        print(i,\":\",I[i],I[i-1],delta)\n",
    "        \n",
    "        if(delta>tol):\n",
    "            #iterate\n",
    "            i += 1\n",
    "            \n",
    "            #if we've reached maximim iterations\n",
    "            if(i>imax):\n",
    "                print(\"Max iterations reached\")\n",
    "                raise StopIteration(\"Stopping iterations after \",i)\n",
    "                \n",
    "    print(\"number of romberg iterations used = \", i)\n",
    "                \n",
    "    #return the answer\n",
    "    return I[i]"
   ]
  },
  {
   "cell_type": "markdown",
   "id": "6780e782",
   "metadata": {},
   "source": [
    "### Check the integrals"
   ]
  },
  {
   "cell_type": "code",
   "execution_count": null,
   "id": "84e9525f",
   "metadata": {},
   "outputs": [],
   "source": [
    "Answer = func_integral(np.pi) - func_integral(0)\n",
    "print(Answer)\n",
    "print(\"Trapezoidal method\")\n",
    "print(trapezoid_method(func,0,np.pi,50))\n",
    "print(\"Number of intervals for trapezoid method = 50\")\n",
    "print(\"Simpson's method\")\n",
    "print(simpsons_method(func,0,np.pi,50))\n",
    "print(\"Number of intervals for Simpson's method = 50\")\n",
    "print(\"Romberg\")\n",
    "tolerance = 1.0e-4\n",
    "RI = romberg_integration(func,0,np.pi,tolerance)\n",
    "print(\"Romberg: \",RI, \"\\n(Difference between Romberg and answer)/answer: \",(RI-Answer)/Answer, \"\\nTolerance: \", tolerance)"
   ]
  },
  {
   "cell_type": "code",
   "execution_count": null,
   "id": "1206dc68",
   "metadata": {},
   "outputs": [],
   "source": []
  },
  {
   "cell_type": "code",
   "execution_count": null,
   "id": "4022ba20",
   "metadata": {},
   "outputs": [],
   "source": []
  },
  {
   "cell_type": "code",
   "execution_count": null,
   "id": "e7b3114f",
   "metadata": {},
   "outputs": [],
   "source": []
  }
 ],
 "metadata": {
  "kernelspec": {
   "display_name": "Python 3 (ipykernel)",
   "language": "python",
   "name": "python3"
  },
  "language_info": {
   "codemirror_mode": {
    "name": "ipython",
    "version": 3
   },
   "file_extension": ".py",
   "mimetype": "text/x-python",
   "name": "python",
   "nbconvert_exporter": "python",
   "pygments_lexer": "ipython3",
   "version": "3.9.7"
  }
 },
 "nbformat": 4,
 "nbformat_minor": 5
}
